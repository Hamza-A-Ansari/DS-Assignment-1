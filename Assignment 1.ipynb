{
 "cells": [
  {
   "cell_type": "code",
   "execution_count": 4,
   "id": "b2c02fb7",
   "metadata": {},
   "outputs": [
    {
     "name": "stdout",
     "output_type": "stream",
     "text": [
      "               Twinkle twinkle litlle star,\n",
      "                       How I wonder what you are!\n",
      "                               Up above the world so high,\n",
      "                               Like a diamond in the sky.\n",
      "               Twinkle twinkle litlle star,\n",
      "                       How I wonder what you are!\n"
     ]
    }
   ],
   "source": [
    "#Write a Python Program to print the following string in a specific format (see the outpu).\n",
    "#              Twinkle twinkle, little star,\n",
    "#                      How I wonder what you are!\n",
    "#                              Up above the world so high,\n",
    "#                              Like a diamond in the sky.\n",
    "#              Twinkle twinkle litlle star,\n",
    "#                      How I wonder what you are\n",
    "print(\"               Twinkle twinkle litlle star,\")\n",
    "print(\"                       How I wonder what you are!\")\n",
    "print(\"                               Up above the world so high,\")\n",
    "print(\"                               Like a diamond in the sky.\")\n",
    "print(\"               Twinkle twinkle litlle star,\")\n",
    "print(\"                       How I wonder what you are!\")"
   ]
  },
  {
   "cell_type": "code",
   "execution_count": 24,
   "id": "181cbbf5",
   "metadata": {},
   "outputs": [
    {
     "name": "stdout",
     "output_type": "stream",
     "text": [
      "Your Python version is: 3.8.8 (default, Apr 13 2021, 15:08:03) [MSC v.1916 64 bit (AMD64)]\n"
     ]
    }
   ],
   "source": [
    "#Write a python program to get the python version you are using\n",
    "import sys\n",
    "print(\"Your Python version is:\",sys.version)"
   ]
  },
  {
   "cell_type": "code",
   "execution_count": 27,
   "id": "b65c65f9",
   "metadata": {},
   "outputs": [
    {
     "data": {
      "text/plain": [
       "'Fri Dec 31 12:33:45 2021'"
      ]
     },
     "execution_count": 27,
     "metadata": {},
     "output_type": "execute_result"
    }
   ],
   "source": [
    "#Write a python program to display the current date and time\n",
    "import time\n",
    "time.asctime()"
   ]
  },
  {
   "cell_type": "code",
   "execution_count": 14,
   "id": "fa9aabfa",
   "metadata": {},
   "outputs": [
    {
     "name": "stdout",
     "output_type": "stream",
     "text": [
      "Enter a number= 2\n",
      "12.566370614359172\n"
     ]
    }
   ],
   "source": [
    "#Write a python program which accepts the radius of a circle from the user and compute the area\n",
    "import math\n",
    "a = int(input((\"Enter a number= \")))\n",
    "b= math.pi*(a*a)\n",
    "print(b)"
   ]
  },
  {
   "cell_type": "code",
   "execution_count": 22,
   "id": "d9f31ec6",
   "metadata": {},
   "outputs": [
    {
     "name": "stdout",
     "output_type": "stream",
     "text": [
      "Enter your first name: Hamza \n",
      "Enter your last name: Ansari\n",
      "Ansari Hamza \n"
     ]
    }
   ],
   "source": [
    "#Write a python program which accepts the user first and last name and print them in reverse orderwith a space between them\n",
    "a=input((\"Enter your first name: \"))\n",
    "b=input((\"Enter your last name: \"))\n",
    "print(b+\" \"+a)"
   ]
  },
  {
   "cell_type": "code",
   "execution_count": 23,
   "id": "f55396a3",
   "metadata": {},
   "outputs": [
    {
     "name": "stdout",
     "output_type": "stream",
     "text": [
      "Enter your 1st number=5\n",
      "Enter your 2nd number=5\n",
      "10\n"
     ]
    }
   ],
   "source": [
    "#Write a python program which takes two inputs from user and print them addition\n",
    "a=int(input(\"Enter your 1st number=\"))\n",
    "b=int(input(\"Enter your 2nd number=\"))\n",
    "c=a+b\n",
    "print(c)"
   ]
  },
  {
   "cell_type": "code",
   "execution_count": null,
   "id": "427bb936",
   "metadata": {},
   "outputs": [],
   "source": []
  }
 ],
 "metadata": {
  "kernelspec": {
   "display_name": "Python 3",
   "language": "python",
   "name": "python3"
  },
  "language_info": {
   "codemirror_mode": {
    "name": "ipython",
    "version": 3
   },
   "file_extension": ".py",
   "mimetype": "text/x-python",
   "name": "python",
   "nbconvert_exporter": "python",
   "pygments_lexer": "ipython3",
   "version": "3.8.8"
  }
 },
 "nbformat": 4,
 "nbformat_minor": 5
}
